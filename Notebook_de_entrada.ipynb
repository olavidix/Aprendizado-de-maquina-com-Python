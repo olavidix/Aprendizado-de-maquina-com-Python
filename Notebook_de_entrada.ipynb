{
 "cells": [
  {
   "cell_type": "markdown",
   "id": "ffa330f6-6b03-4322-9053-4b6d876d3d80",
   "metadata": {},
   "source": [
    "### Tarefa:\n",
    "Neste projeto, será construido um classificador para prever se um caso de empréstimo poderá ser pago ou não.\n",
    "\n",
    "Iremos carregar um conjunto de dados históricos, fictícios e criados de forma aleatória, de solicitações para empréstimos anteriores, limpar os dados e aplicar algoritmos de classificação diferentes. Serão usados os algoritmos requeridos no enunciado para construir os modelos.\n",
    "\n",
    "Para aceder aos respectivos algoritmos, clique nos links abaixo qe vão redirecionar para um Jupyter Notebook num **repositório do GitHub**.\n",
    "\n",
    "[k-vizinhos mais próximos](https://github.com/olavidix/Aprendizado-de-maquina-com-Python/blob/main/O_melhor_classificador_KNN.ipynb)\n",
    "\n",
    "[Árvore de decisão](https://github.com/olavidix/Aprendizado-de-maquina-com-Python/blob/main/O_melhor_classificador_arvore_de_decisão.ipynb)\n",
    "\n",
    "**A algoritmos abaixo estarão disponíveis em breve.**\n",
    "\n",
    "Máquina de vetores de suporte (SVM)\n",
    "\n",
    "Regressão logística\n",
    "\n",
    "\n"
   ]
  }
 ],
 "metadata": {
  "kernelspec": {
   "display_name": "anaconda-2022.05-py39",
   "language": "python",
   "name": "conda-env-anaconda-2022.05-py39-py"
  },
  "language_info": {
   "codemirror_mode": {
    "name": "ipython",
    "version": 3
   },
   "file_extension": ".py",
   "mimetype": "text/x-python",
   "name": "python",
   "nbconvert_exporter": "python",
   "pygments_lexer": "ipython3",
   "version": "3.9.12"
  }
 },
 "nbformat": 4,
 "nbformat_minor": 5
}

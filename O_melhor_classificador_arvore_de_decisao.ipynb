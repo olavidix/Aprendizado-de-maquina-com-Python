{
 "cells": [
  {
   "cell_type": "markdown",
   "id": "08856378-3cd7-49e1-a1ac-a708ca6bb41c",
   "metadata": {},
   "source": [
    "### Tarefa:\n",
    "Neste projeto, será construido um classificador para prever se um caso de empréstimo poderá ser pago ou não.\n",
    "\n",
    "Iremos carregar um conjunto de dados históricos de solicitações para empréstimos anteriores, limpar os dados e aplicar algoritmos de classificação diferentes. Serão usados os seguintes algoritmos para construir os modelos:\n",
    "\n",
    "### Neste Notebook será aplicado o seguinte modelo: **Árvore de decisão**\n",
    "\n",
    "O resultado é relatado como a precisão de cada classificador, usando as seguintes métricas quando estas são aplicáveis:\n",
    "\n",
    "#### Índice de Jaccard\n",
    "\n",
    "#### F1-score\n",
    "\n",
    "#### LogLoass\n",
    "\n",
    "\n",
    "\n",
    "### Outros Notebooks disponíveis\n",
    "\n",
    "[Notebook de Entrada (Indice de trabalhos)](#about_dataset)\n",
    "\n",
    "[k-vizinhos mais próximos](https://github.com/olavidix/Aprendizado-de-maquina-com-Python/blob/main/O_melhor_classificador_KNN.ipynb)\n"
   ]
  },
  {
   "cell_type": "markdown",
   "id": "720bd8b3-0eec-4124-a55a-c62a9599dd7a",
   "metadata": {},
   "source": [
    "<h1>Indice</h1>\n",
    "\n",
    "<div class=\"alert alert-block alert-info\" style=\"margin-top: 20px\">\n",
    "    <ol>\n",
    "        <li><a href=\"#about_dataset\">O nosso conjunto de dados</a></li>\n",
    "        <li><a href=\"#Visualização_análise_dados\">Visualização e análise de dados</a></li>\n",
    "        <li><a href=\"#pre-processamento\">Pré-processamento</a></li>\n",
    "        <li><a href=\"#configurando_arvore_decisao\">Configurando a Árvore de Decisão</a></li>\n",
    "        <li><a href=\"#modelagem\">Modelagem</a></li>\n",
    "        <li><a href=\"#previsao\">Previsão</a></li>\n",
    "        <li><a href=\"#avaliacao\">Avaliação</a></li>\n",
    "        <li><a href=\"#visualizacao\">Visualização da Árvore de Decisão</a></li>\n",
    "    </ol>\n",
    "</div>\n",
    "<br>\n",
    "<hr>\n"
   ]
  },
  {
   "cell_type": "markdown",
   "id": "01cfd767-d37f-4104-b601-28c485e98ff6",
   "metadata": {},
   "source": [
    "<div id=\"about_dataset\">\n",
    "    <h2>O nosso conjunto de dados</h2>\n",
    "</div>\n",
    "\n",
    "Vamos começar por criar um conjunto de dados histórico de solicitações para empréstimos anteriores.\n",
    "\n",
    "O código (Python) a seguir é usado para gerar um arquivo CSV com as colunas abaixo indicadas e valores aleatórios. Vou utilizar a biblioteca pandas e random para facilitar a criação e gravação do arquivo.\n",
    "\n",
    "**Número** (sequencial)\n",
    "\n",
    "**Região** (1, 2, 3 ou 4)\n",
    "\n",
    "**Idade** (entre 18 e 65 anos)\n",
    "\n",
    "**Casado** (1 ou 0)\n",
    "\n",
    "**Rendimentos** (entre 100 e 200)\n",
    "\n",
    "**Género** (1 ou 0)\n",
    "\n",
    "**Aprovação** (1 ou 0)\n",
    "\n",
    "Uma vez que a base de dados que constitui o DataFrame é fictício e para facilitar a interpretação dos dados vamos criar algumas condições para a aprovação dos empréstimos.\n"
   ]
  },
  {
   "cell_type": "code",
   "execution_count": 1,
   "id": "8e24faa7-a988-447f-80cc-9c3c9b6345c5",
   "metadata": {},
   "outputs": [],
   "source": [
    "import pandas as pd\n",
    "import random\n",
    "\n",
    "# Número de registros no conjunto de dados\n",
    "num_registros = 1000\n",
    "\n",
    "# Inicializando listas vazias para cada coluna\n",
    "regioes = []\n",
    "idades = []\n",
    "casados = []\n",
    "rendimentos = []\n",
    "generos = []\n",
    "aprovacoes = []\n",
    "\n",
    "# Gerando valores aleatórios para cada coluna\n",
    "for i in range(num_registros):\n",
    "    regioes.append(random.choice([1, 2, 3, 4]))\n",
    "    idades.append(random.randint(18, 65))\n",
    "    casados.append(random.choice([1, 0]))\n",
    "    rendimentos.append(random.randint(100, 200))\n",
    "    generos.append(random.choice([1, 0]))\n",
    "    aprovacoes.append(random.choice([1, 0]))\n",
    "\n",
    "# Criando um DataFrame pandas com os dados gerados\n",
    "dados = pd.DataFrame({\n",
    "    'Região': regioes,\n",
    "    'Idade': idades,\n",
    "    'Casado': casados,\n",
    "    'Rendimentos': rendimentos,\n",
    "    'Género': generos,\n",
    "    'Aprovação': aprovacoes\n",
    "})\n",
    "\n",
    "# Atualizando a coluna 'Aprovação' de acordo com as condições especificadas\n",
    "for index, row in dados.iterrows():\n",
    "    if row['Idade'] > 40 and row['Casado'] == 1 and row['Rendimentos'] > 150:\n",
    "        dados.at[index, 'Aprovação'] = 1\n",
    "\n",
    "# Escrevendo os dados em um arquivo CSV\n",
    "# dados.to_csv('dados_emprestimos.csv', index=False)\n"
   ]
  },
  {
   "cell_type": "markdown",
   "id": "06f253fa-afdd-4bd4-a959-a596fcf9006a",
   "metadata": {},
   "source": [
    "<div id=\"Visualização_análise_dados\">\n",
    "    <h2>Visualização e análise de dados</h2> \n",
    "</div>\n",
    "\n",
    "Agora vamos ver as primeiras cinco linhas do DataFrame que acabamos de criar"
   ]
  },
  {
   "cell_type": "code",
   "execution_count": 2,
   "id": "4fd89f4a-019d-451d-aae5-ad88d7773cc5",
   "metadata": {},
   "outputs": [
    {
     "data": {
      "text/html": [
       "<div>\n",
       "<style scoped>\n",
       "    .dataframe tbody tr th:only-of-type {\n",
       "        vertical-align: middle;\n",
       "    }\n",
       "\n",
       "    .dataframe tbody tr th {\n",
       "        vertical-align: top;\n",
       "    }\n",
       "\n",
       "    .dataframe thead th {\n",
       "        text-align: right;\n",
       "    }\n",
       "</style>\n",
       "<table border=\"1\" class=\"dataframe\">\n",
       "  <thead>\n",
       "    <tr style=\"text-align: right;\">\n",
       "      <th></th>\n",
       "      <th>Região</th>\n",
       "      <th>Idade</th>\n",
       "      <th>Casado</th>\n",
       "      <th>Rendimentos</th>\n",
       "      <th>Género</th>\n",
       "      <th>Aprovação</th>\n",
       "    </tr>\n",
       "  </thead>\n",
       "  <tbody>\n",
       "    <tr>\n",
       "      <th>0</th>\n",
       "      <td>4</td>\n",
       "      <td>61</td>\n",
       "      <td>0</td>\n",
       "      <td>140</td>\n",
       "      <td>1</td>\n",
       "      <td>1</td>\n",
       "    </tr>\n",
       "    <tr>\n",
       "      <th>1</th>\n",
       "      <td>4</td>\n",
       "      <td>29</td>\n",
       "      <td>0</td>\n",
       "      <td>119</td>\n",
       "      <td>0</td>\n",
       "      <td>1</td>\n",
       "    </tr>\n",
       "    <tr>\n",
       "      <th>2</th>\n",
       "      <td>4</td>\n",
       "      <td>54</td>\n",
       "      <td>1</td>\n",
       "      <td>118</td>\n",
       "      <td>1</td>\n",
       "      <td>1</td>\n",
       "    </tr>\n",
       "    <tr>\n",
       "      <th>3</th>\n",
       "      <td>3</td>\n",
       "      <td>20</td>\n",
       "      <td>1</td>\n",
       "      <td>157</td>\n",
       "      <td>1</td>\n",
       "      <td>0</td>\n",
       "    </tr>\n",
       "    <tr>\n",
       "      <th>4</th>\n",
       "      <td>1</td>\n",
       "      <td>63</td>\n",
       "      <td>1</td>\n",
       "      <td>171</td>\n",
       "      <td>0</td>\n",
       "      <td>1</td>\n",
       "    </tr>\n",
       "  </tbody>\n",
       "</table>\n",
       "</div>"
      ],
      "text/plain": [
       "   Região  Idade  Casado  Rendimentos  Género  Aprovação\n",
       "0       4     61       0          140       1          1\n",
       "1       4     29       0          119       0          1\n",
       "2       4     54       1          118       1          1\n",
       "3       3     20       1          157       1          0\n",
       "4       1     63       1          171       0          1"
      ]
     },
     "execution_count": 2,
     "metadata": {},
     "output_type": "execute_result"
    }
   ],
   "source": [
    "dados.head()"
   ]
  },
  {
   "cell_type": "markdown",
   "id": "f0657b9a-d13b-48e9-824b-a23d0ae4952c",
   "metadata": {},
   "source": [
    "Vamos ver um resumo estatístico das colunas do nosso DataFrame\n",
    "\n",
    "Este resumo inclui medidas estatísticas como contagem, média, desvio padrão, mínimo, máximo e os percentis (25%, 50% e 75%). Aqui está uma explicação de cada medida:\n",
    "\n",
    "\n",
    "**count**: número de registros não nulos ou não faltantes na coluna.\n",
    "\n",
    "**mean**: média aritmética dos valores na coluna.\n",
    "\n",
    "**std**: desvio padrão, que é uma medida de dispersão que indica o quanto os valores se desviam da média.\n",
    "\n",
    "**min**: valor mínimo na coluna.\n",
    "\n",
    "**25%**: primeiro quartil (Q1), que é o valor que separa os 25% mais baixos dos valores na coluna.\n",
    "\n",
    "**50%**: segundo quartil (Q2) ou mediana, que é o valor que separa os 50% mais baixos dos valores na coluna.\n",
    "\n",
    "**75%**: terceiro quartil (Q3), que é o valor que separa os 75% mais baixos dos valores na coluna.\n",
    "\n",
    "**max**: valor máximo na coluna."
   ]
  },
  {
   "cell_type": "code",
   "execution_count": 3,
   "id": "c17b605a-12b2-4f9d-a5df-248933078aca",
   "metadata": {},
   "outputs": [
    {
     "data": {
      "text/html": [
       "<div>\n",
       "<style scoped>\n",
       "    .dataframe tbody tr th:only-of-type {\n",
       "        vertical-align: middle;\n",
       "    }\n",
       "\n",
       "    .dataframe tbody tr th {\n",
       "        vertical-align: top;\n",
       "    }\n",
       "\n",
       "    .dataframe thead th {\n",
       "        text-align: right;\n",
       "    }\n",
       "</style>\n",
       "<table border=\"1\" class=\"dataframe\">\n",
       "  <thead>\n",
       "    <tr style=\"text-align: right;\">\n",
       "      <th></th>\n",
       "      <th>Região</th>\n",
       "      <th>Idade</th>\n",
       "      <th>Casado</th>\n",
       "      <th>Rendimentos</th>\n",
       "      <th>Género</th>\n",
       "      <th>Aprovação</th>\n",
       "    </tr>\n",
       "  </thead>\n",
       "  <tbody>\n",
       "    <tr>\n",
       "      <th>count</th>\n",
       "      <td>1000.000000</td>\n",
       "      <td>1000.000000</td>\n",
       "      <td>1000.000000</td>\n",
       "      <td>1000.000000</td>\n",
       "      <td>1000.00000</td>\n",
       "      <td>1000.000000</td>\n",
       "    </tr>\n",
       "    <tr>\n",
       "      <th>mean</th>\n",
       "      <td>2.508000</td>\n",
       "      <td>41.250000</td>\n",
       "      <td>0.482000</td>\n",
       "      <td>149.100000</td>\n",
       "      <td>0.52000</td>\n",
       "      <td>0.537000</td>\n",
       "    </tr>\n",
       "    <tr>\n",
       "      <th>std</th>\n",
       "      <td>1.113182</td>\n",
       "      <td>14.123065</td>\n",
       "      <td>0.499926</td>\n",
       "      <td>28.770223</td>\n",
       "      <td>0.49985</td>\n",
       "      <td>0.498879</td>\n",
       "    </tr>\n",
       "    <tr>\n",
       "      <th>min</th>\n",
       "      <td>1.000000</td>\n",
       "      <td>18.000000</td>\n",
       "      <td>0.000000</td>\n",
       "      <td>100.000000</td>\n",
       "      <td>0.00000</td>\n",
       "      <td>0.000000</td>\n",
       "    </tr>\n",
       "    <tr>\n",
       "      <th>25%</th>\n",
       "      <td>2.000000</td>\n",
       "      <td>29.000000</td>\n",
       "      <td>0.000000</td>\n",
       "      <td>124.000000</td>\n",
       "      <td>0.00000</td>\n",
       "      <td>0.000000</td>\n",
       "    </tr>\n",
       "    <tr>\n",
       "      <th>50%</th>\n",
       "      <td>3.000000</td>\n",
       "      <td>41.000000</td>\n",
       "      <td>0.000000</td>\n",
       "      <td>149.500000</td>\n",
       "      <td>1.00000</td>\n",
       "      <td>1.000000</td>\n",
       "    </tr>\n",
       "    <tr>\n",
       "      <th>75%</th>\n",
       "      <td>3.000000</td>\n",
       "      <td>54.000000</td>\n",
       "      <td>1.000000</td>\n",
       "      <td>174.000000</td>\n",
       "      <td>1.00000</td>\n",
       "      <td>1.000000</td>\n",
       "    </tr>\n",
       "    <tr>\n",
       "      <th>max</th>\n",
       "      <td>4.000000</td>\n",
       "      <td>65.000000</td>\n",
       "      <td>1.000000</td>\n",
       "      <td>200.000000</td>\n",
       "      <td>1.00000</td>\n",
       "      <td>1.000000</td>\n",
       "    </tr>\n",
       "  </tbody>\n",
       "</table>\n",
       "</div>"
      ],
      "text/plain": [
       "            Região        Idade       Casado  Rendimentos      Género  \\\n",
       "count  1000.000000  1000.000000  1000.000000  1000.000000  1000.00000   \n",
       "mean      2.508000    41.250000     0.482000   149.100000     0.52000   \n",
       "std       1.113182    14.123065     0.499926    28.770223     0.49985   \n",
       "min       1.000000    18.000000     0.000000   100.000000     0.00000   \n",
       "25%       2.000000    29.000000     0.000000   124.000000     0.00000   \n",
       "50%       3.000000    41.000000     0.000000   149.500000     1.00000   \n",
       "75%       3.000000    54.000000     1.000000   174.000000     1.00000   \n",
       "max       4.000000    65.000000     1.000000   200.000000     1.00000   \n",
       "\n",
       "         Aprovação  \n",
       "count  1000.000000  \n",
       "mean      0.537000  \n",
       "std       0.498879  \n",
       "min       0.000000  \n",
       "25%       0.000000  \n",
       "50%       1.000000  \n",
       "75%       1.000000  \n",
       "max       1.000000  "
      ]
     },
     "execution_count": 3,
     "metadata": {},
     "output_type": "execute_result"
    }
   ],
   "source": [
    "dados.describe()"
   ]
  },
  {
   "cell_type": "markdown",
   "id": "b25f1263-1476-4e90-b7c4-585ddd61e32f",
   "metadata": {},
   "source": [
    "Agora vamos ver quantos emprestimos foram Aprovados (1) e quantos foram Reprovados (0)"
   ]
  },
  {
   "cell_type": "code",
   "execution_count": 4,
   "id": "c1440649-bf44-48b4-87b6-45a5818958ae",
   "metadata": {},
   "outputs": [
    {
     "data": {
      "text/plain": [
       "1    537\n",
       "0    463\n",
       "Name: Aprovação, dtype: int64"
      ]
     },
     "execution_count": 4,
     "metadata": {},
     "output_type": "execute_result"
    }
   ],
   "source": [
    "dados['Aprovação'].value_counts()"
   ]
  },
  {
   "cell_type": "markdown",
   "id": "1ddac550-45a5-4acb-b75e-c481fc71bfd9",
   "metadata": {},
   "source": [
    "Vamos explorar os nossos dados usando uma técnica de visualização."
   ]
  },
  {
   "cell_type": "code",
   "execution_count": 5,
   "id": "506841fd-1662-4cd5-9a04-1e5e8add9c0a",
   "metadata": {},
   "outputs": [
    {
     "data": {
      "text/plain": [
       "array([[<AxesSubplot:title={'center':'Rendimentos'}>]], dtype=object)"
      ]
     },
     "execution_count": 5,
     "metadata": {},
     "output_type": "execute_result"
    },
    {
     "data": {
      "image/png": "[encoded data removed]",
      "text/plain": [
       "<Figure size 432x288 with 1 Axes>"
      ]
     },
     "metadata": {
      "needs_background": "light"
     },
     "output_type": "display_data"
    }
   ],
   "source": [
    "dados.hist(column='Rendimentos', bins=50)"
   ]
  },
  {
   "cell_type": "markdown",
   "id": "c7365319-8a28-4640-8b7a-c3c9b5defda6",
   "metadata": {},
   "source": [
    "<div id=\"pre-processamento\">\n",
    "    <h2>Pré-processamento</h2> \n",
    "</div>\n",
    "\n",
    "De seguida vamos declarar as seguintes variáveis:\n",
    "\n",
    "**X** como a matriz de características (**Feature Matrix**)\n",
    "\n",
    "**y** como o vetor de resposta (**Response Vector**)\n",
    "\n",
    "Assim estamos a criar a matriz de características **(X)** selecionando algumas colunas específicas ('Região', 'Idade', 'Casado', 'Rendimentos', 'Género') do conjunto de dados (dados).\n",
    "\n",
    "Em seguida, vamos exibir as primeiras 5 linhas da matriz de características **(X)** usando **X[0:5]**.\n"
   ]
  },
  {
   "cell_type": "code",
   "execution_count": 6,
   "id": "dabf2eb7-f83d-4ac4-8a87-c4e88138168a",
   "metadata": {},
   "outputs": [
    {
     "data": {
      "text/plain": [
       "array([[  4,  61,   0, 140,   1],\n",
       "       [  4,  29,   0, 119,   0],\n",
       "       [  4,  54,   1, 118,   1],\n",
       "       [  3,  20,   1, 157,   1],\n",
       "       [  1,  63,   1, 171,   0]])"
      ]
     },
     "execution_count": 6,
     "metadata": {},
     "output_type": "execute_result"
    }
   ],
   "source": [
    "X = dados[['Região', 'Idade', 'Casado', 'Rendimentos', 'Género']].values\n",
    "X[0:5]"
   ]
  },
  {
   "cell_type": "markdown",
   "id": "115ceb83-9ed8-425f-81b5-0aa70d0cce71",
   "metadata": {},
   "source": [
    "Agora podemos preencher a variável alvo (**Target**).\n",
    "\n",
    "Neste trecho de código, estamos criando o vetor de resposta **(y)** selecionando a coluna **'Aprovação'** do conjunto de dados (**dados**).\n",
    "\n",
    "Em seguida, exibimos as primeiras 5 linhas do vetor de resposta **(y**) usando **y[0:5]**.\n",
    "\n",
    "Agora temos tanto a matriz de características (X) quanto o vetor de resposta (y) definidos e prontos para uso no treinamento do modelo de Árvore de Decisão."
   ]
  },
  {
   "cell_type": "code",
   "execution_count": 7,
   "id": "926fff2b-880d-409f-8858-71d90dd3f5ed",
   "metadata": {},
   "outputs": [
    {
     "data": {
      "text/plain": [
       "0    1\n",
       "1    1\n",
       "2    1\n",
       "3    0\n",
       "4    1\n",
       "Name: Aprovação, dtype: int64"
      ]
     },
     "execution_count": 7,
     "metadata": {},
     "output_type": "execute_result"
    }
   ],
   "source": [
    "# Atribuindo a coluna 'Aprovação' da variável dados ao vetor de resposta (y)\n",
    "y = dados['Aprovação']\n",
    "\n",
    "# Exibindo as primeiras 5 linhas do vetor de resposta (y)\n",
    "y[0:5]\n"
   ]
  },
  {
   "cell_type": "markdown",
   "id": "2823b40f-cf50-41ad-bdee-ed36eb935996",
   "metadata": {},
   "source": [
    "<div id=\"configurando_arvore_decisao\">\n",
    "    <h2>Configurando a Árvore de Decisão</h2> \n",
    "</div>\n",
    "\n",
    "Usaremos a divisão treino/teste (train/test split) em nossa árvore de decisão. Vamos importar a função train_test_split do módulo sklearn.model_selection.\n",
    "\n",
    "Neste trecho de código, estamos importando a função train_test_split do módulo sklearn.model_selection. Essa função é usada para dividir o conjunto de dados em dois subconjuntos: um para treinamento e outro para teste.\n",
    "\n",
    "Isso permite que você treine o modelo usando um subconjunto de dados e o teste usando um subconjunto diferente, o que é útil para avaliar o desempenho e a generalização do modelo.\n"
   ]
  },
  {
   "cell_type": "code",
   "execution_count": 8,
   "id": "6293947c-d9ce-4625-b3c3-f6b2fb9f5f51",
   "metadata": {},
   "outputs": [],
   "source": [
    "# Importando a função train_test_split do módulo sklearn.model_selection\n",
    "from sklearn.model_selection import train_test_split\n"
   ]
  },
  {
   "cell_type": "markdown",
   "id": "158a5e69-017a-4b93-bc10-e59d571ebd19",
   "metadata": {},
   "source": [
    "Neste trecho de código, estamos usando a função **train_test_split** para dividir as matrizes X e y em conjuntos de treinamento e teste.\n",
    "\n",
    "X_trainset, X_testset, y_trainset, y_testset\n",
    "\n",
    "Estamos usando uma proporção de 0.3 (30%) para o tamanho do conjunto de teste (**test_size=0.3**). O parâmetro **random_state=3** garante que a divisão seja reproduzível, ou seja, sempre que executarmos este código com o mesmo valor de **random_state**, obteremos a mesma divisão dos dados.\n",
    "\n",
    "X, y, test_size=0.3 e random_state=3.\n"
   ]
  },
  {
   "cell_type": "code",
   "execution_count": 9,
   "id": "144d541f-10f0-450d-b812-90f908421bf3",
   "metadata": {},
   "outputs": [],
   "source": [
    "# Dividindo os dados em conjuntos de treinamento e teste usando a função train_test_split\n",
    "X_trainset, X_testset, y_trainset, y_testset = train_test_split(X, y, test_size=0.3, random_state=3)\n"
   ]
  },
  {
   "cell_type": "markdown",
   "id": "39161262-81ae-4433-bf0c-cceef3579a91",
   "metadata": {},
   "source": [
    "Neste trecho de código a seguir, estamos imprimindo o formato (shape) dos arrays X_trainset e y_trainset.\n",
    "\n",
    "Isso é útil para garantir que as dimensões dos conjuntos de treinamento sejam compatíveis antes de usá-los para treinar o modelo de Árvore de Decisão.\n",
    "\n",
    "A primeira dimensão (número de linhas) de X_trainset e y_trainset deve ser igual, já que cada linha de X_trainset corresponde a uma entrada no y_trainset.\n"
   ]
  },
  {
   "cell_type": "code",
   "execution_count": 10,
   "id": "5e498de3-82b6-4f43-8609-a701b7de3ed3",
   "metadata": {},
   "outputs": [
    {
     "name": "stdout",
     "output_type": "stream",
     "text": [
      "Formato do conjunto de treinamento X (700, 5) &  Tamanho do conjunto de treinamento Y (700,)\n"
     ]
    }
   ],
   "source": [
    "# Imprimindo o formato (shape) dos conjuntos de treinamento X_trainset e y_trainset\n",
    "print('Formato do conjunto de treinamento X {}'.format(X_trainset.shape), '&', ' Tamanho do conjunto de treinamento Y {}'.format(y_trainset.shape))\n"
   ]
  },
  {
   "cell_type": "markdown",
   "id": "763db2b3-0e04-4cab-9c81-984bf42e62c4",
   "metadata": {},
   "source": [
    "### Interpretando os resultados\n",
    "\n",
    "O resultado indica que o conjunto de treinamento X (X_trainset) possui 700 linhas e 5 colunas, ou seja, 700 exemplos de treinamento com 5 características (features) cada. As 5 colunas correspondem às características que você selecionou anteriormente ('Região', 'Idade', 'Casado', 'Rendimentos' e 'Género').\n",
    "\n",
    "O conjunto de treinamento Y (y_trainset) possui 700 linhas e apenas 1 coluna (não mostrada explicitamente no formato). Isso significa que há 700 rótulos (labels) no conjunto de treinamento Y, um para cada exemplo no conjunto de treinamento X.\n",
    "\n",
    "As dimensões são compatíveis, já que o número de linhas em ambos os conjuntos de treinamento é igual (700). Isso é importante porque cada linha em X_trainset (cada exemplo de treinamento com suas características) deve ter um rótulo correspondente em y_trainset. Com essas dimensões compatíveis, você pode prosseguir e treinar o modelo de Árvore de Decisão usando esses conjuntos de treinamento."
   ]
  },
  {
   "cell_type": "markdown",
   "id": "d9dd4d67-361b-486a-82ee-19eb986e9057",
   "metadata": {},
   "source": [
    "Neste trecho de código a seguir, estamos imprimindo o formato (shape) dos arrays X_testset e y_testset.\n",
    "\n",
    "Isso é útil para garantir que as dimensões dos conjuntos de teste sejam compatíveis antes de usá-los para avaliar o desempenho do modelo de Árvore de Decisão.\n",
    "\n",
    "A primeira dimensão (número de linhas) de X_testset e y_testset deve ser igual, já que cada linha de X_testset corresponde a uma entrada no y_testset.\n"
   ]
  },
  {
   "cell_type": "code",
   "execution_count": 11,
   "id": "a0416515-2da6-42f1-bc3c-2493d08239bf",
   "metadata": {},
   "outputs": [
    {
     "name": "stdout",
     "output_type": "stream",
     "text": [
      "Formato do conjunto de teste X (300, 5) &  Tamanho do conjunto de teste Y (300,)\n"
     ]
    }
   ],
   "source": [
    "# Imprimindo o formato (shape) dos conjuntos de teste X_testset e y_testset\n",
    "print('Formato do conjunto de teste X {}'.format(X_testset.shape), '&', ' Tamanho do conjunto de teste Y {}'.format(y_testset.shape))\n"
   ]
  },
  {
   "cell_type": "markdown",
   "id": "8397bc15-b844-4e6b-bc38-5847c6a2ef6f",
   "metadata": {},
   "source": [
    "### Interpretando os resultados\n",
    "\n",
    "O resultado indica que o conjunto de teste X (X_testset) possui 300 linhas e 5 colunas, ou seja, 300 exemplos de teste com 5 características (features) cada. As 5 colunas correspondem às características que você selecionou anteriormente ('Região', 'Idade', 'Casado', 'Rendimentos' e 'Género').\n",
    "\n",
    "O conjunto de teste Y (y_testset) possui 300 linhas e apenas 1 coluna (não mostrada explicitamente no formato). Isso significa que há 300 rótulos (labels) no conjunto de teste Y, um para cada exemplo no conjunto de teste X.\n",
    "\n",
    "As dimensões são compatíveis, já que o número de linhas em ambos os conjuntos de teste é igual (300). Isso é importante porque cada linha em X_testset (cada exemplo de teste com suas características) deve ter um rótulo correspondente em y_testset. Com essas dimensões compatíveis, você pode avaliar o desempenho do modelo de Árvore de Decisão treinado usando esses conjuntos de teste.\n"
   ]
  },
  {
   "cell_type": "markdown",
   "id": "2a54a1ee-4ebf-496d-b462-eb80d672b221",
   "metadata": {},
   "source": [
    "<div id=\"modelagem\">\n",
    "    <h2>Modelagem</h2> \n",
    "</div>\n",
    "\n",
    "\n",
    "Primeiro, criaremos uma instância do DecisionTreeClassifier chamada **\"emprestimos\"**. Dentro do classificador, especifique **criterion=\"entropy\"** para que possamos ver o ganho de informação de cada nó.\n",
    "\n",
    "Neste trecho de código, estamos criando uma instância do classificador **DecisionTreeClassifier** e chamando-a de **\"emprestimos\"**. O parâmetro **criterion=\"entropy\"** indica que queremos usar a entropia como medida de qualidade para a divisão dos nós da árvore de decisão. A entropia permite calcular o ganho de informação de cada nó.\n",
    "\n",
    "Além disso, especificamos **max_depth=4**, o que limita a profundidade da árvore de decisão a um máximo de 4 níveis. Isso pode ajudar a evitar o sobreajuste **(overfitting)** e melhorar a generalização do modelo em novos dados.\n"
   ]
  },
  {
   "cell_type": "code",
   "execution_count": 13,
   "id": "e66dedfe-69f2-4618-bc5f-c89b147eaf5d",
   "metadata": {},
   "outputs": [
    {
     "data": {
      "text/plain": [
       "DecisionTreeClassifier(criterion='entropy', max_depth=4)"
      ]
     },
     "execution_count": 13,
     "metadata": {},
     "output_type": "execute_result"
    }
   ],
   "source": [
    "from sklearn.tree import DecisionTreeClassifier\n",
    "\n",
    "# Criando uma instância do DecisionTreeClassifier chamada \"emprestimos\"\n",
    "# Usando o critério \"entropy\" e profundidade máxima de 4\n",
    "emprestimos = DecisionTreeClassifier(criterion=\"entropy\", max_depth=4)\n",
    "emprestimos\n"
   ]
  },
  {
   "cell_type": "markdown",
   "id": "e17a3f13-e570-4f37-840d-c2cf5cdd2453",
   "metadata": {},
   "source": [
    "Em seguida, ajustaremos os dados com a matriz de características de treinamento X_trainset e o vetor de resposta de treinamento y_trainset.\n",
    "\n",
    "Neste trecho de código, estamos usando o método fit para treinar o classificador de Árvore de Decisão chamado \"emprestimos\".\n",
    "\n",
    "Fornecemos a matriz de características de treinamento (X_trainset) e o vetor de resposta de treinamento (y_trainset) como argumentos.\n",
    "\n",
    "Isso fará com que o classificador ajuste o modelo de Árvore de Decisão aos dados de treinamento, encontrando as divisões ótimas e estrutura da árvore com base no critério de entropia que especificamos anteriormente.\n"
   ]
  },
  {
   "cell_type": "code",
   "execution_count": 14,
   "id": "26bbd7eb-32bc-4d04-bc41-84c47e3a6830",
   "metadata": {},
   "outputs": [
    {
     "data": {
      "text/plain": [
       "DecisionTreeClassifier(criterion='entropy', max_depth=4)"
      ]
     },
     "execution_count": 14,
     "metadata": {},
     "output_type": "execute_result"
    }
   ],
   "source": [
    "# Treinando o modelo de Árvore de Decisão usando os conjuntos de treinamento X_trainset e y_trainset\n",
    "emprestimos.fit(X_trainset, y_trainset)\n"
   ]
  },
  {
   "cell_type": "markdown",
   "id": "71ea6cb7-d954-4ad5-9942-ab22df8a0eda",
   "metadata": {},
   "source": [
    "<div id=\"previsao\">\n",
    "    <h2>Previsão</h2> \n",
    "</div>\n",
    "\n",
    "Vamos fazer algumas previsões no conjunto de dados de teste e armazená-las em uma variável chamada predTree.\n",
    "\n",
    "Neste trecho de código, estamos usando o método **predict** para fazer previsões com o classificador de Árvore de Decisão treinado chamado **\"emprestimos\"**. Fornecemos a matriz de características de teste **(X_testset)** como argumento. O método **predict** retorna um array de previsões, que armazenamos na variável predTree.\n",
    "\n",
    "As previsões em predTree podem ser usadas para comparar com os rótulos verdadeiros **(y_testset)** e avaliar o desempenho do modelo de Árvore de Decisão.\n"
   ]
  },
  {
   "cell_type": "code",
   "execution_count": 17,
   "id": "e8297d64-e583-4a50-a6d5-4e69f55a34e3",
   "metadata": {},
   "outputs": [],
   "source": [
    "# Realizando previsões no conjunto de dados de teste e armazenando os resultados na variável predTree\n",
    "predTree = emprestimos.predict(X_testset)\n"
   ]
  },
  {
   "cell_type": "markdown",
   "id": "9f8ad8eb-12ca-4029-846c-8c9ed683359b",
   "metadata": {},
   "source": [
    "Neste trecho de código, estamos imprimindo as primeiras **5 previsões** armazenadas na variável **predTree** e os primeiros **5 rótulos** verdadeiros armazenados em **y_testset**.\n",
    "\n",
    "Isso permite comparar visualmente as previsões feitas pelo modelo de Árvore de Decisão aos rótulos verdadeiros, ajudando a ter uma noção do desempenho do modelo.\n"
   ]
  },
  {
   "cell_type": "code",
   "execution_count": 18,
   "id": "cf04d82e-16bf-42ca-a3cf-90a55a50dc42",
   "metadata": {},
   "outputs": [
    {
     "name": "stdout",
     "output_type": "stream",
     "text": [
      "[1 1 1 0 0]\n",
      "642    1\n",
      "762    1\n",
      "909    0\n",
      "199    1\n",
      "586    1\n",
      "Name: Aprovação, dtype: int64\n"
     ]
    }
   ],
   "source": [
    "# Imprimindo as primeiras 5 previsões em predTree e os primeiros 5 rótulos verdadeiros em y_testset para comparação visual\n",
    "print(predTree[0:5])\n",
    "print(y_testset[0:5])\n"
   ]
  },
  {
   "cell_type": "markdown",
   "id": "e48f3b29-a296-4429-856f-c499cf201a55",
   "metadata": {},
   "source": [
    "<div id=\"avaliacao\">\n",
    "    <h2>Avaliação</h2> \n",
    "</div>\n",
    "\n",
    "A seguir, vamos importar as métricas do sklearn e verificar a acurácia do nosso modelo.\n",
    "\n",
    "Neste trecho de código, estamos importando as métricas do módulo sklearn e o módulo pyplot do matplotlib.\n",
    "\n",
    "Em seguida, calculamos a acurácia do modelo de Árvore de Decisão usando a função **accuracy_score** do módulo de métricas. A função **accuracy_score** compara os rótulos verdadeiros **(y_testset)** com as previsões feitas pelo modelo **(predTree)** e retorna a proporção de previsões corretas.\n",
    "\n",
    "Imprimimos a acurácia do modelo para ter uma medida quantitativa do desempenho da Árvore de Decisão. \n",
    "A acurácia é uma métrica comum para avaliar modelos de classificação, mas é importante considerar outras métricas, como precisão, revocação e F1-score, dependendo do problema e do equilíbrio das classes no conjunto de dados.\n"
   ]
  },
  {
   "cell_type": "code",
   "execution_count": 19,
   "id": "537d78db-56b6-481d-aa25-33abab7a4259",
   "metadata": {},
   "outputs": [
    {
     "name": "stdout",
     "output_type": "stream",
     "text": [
      "Acurácia da Árvore de Decisão:  0.5633333333333334\n"
     ]
    }
   ],
   "source": [
    "# Importando métricas do sklearn e o módulo pyplot do matplotlib\n",
    "from sklearn import metrics\n",
    "import matplotlib.pyplot as plt\n",
    "\n",
    "# Calculando a acurácia do modelo de Árvore de Decisão e imprimindo o resultado\n",
    "print(\"Acurácia da Árvore de Decisão: \", metrics.accuracy_score(y_testset, predTree))\n"
   ]
  },
  {
   "cell_type": "markdown",
   "id": "fe62d6c3-d098-43c4-8e5f-29d7ff5c69f6",
   "metadata": {},
   "source": [
    "### Interpretando os resultados\n",
    "\n",
    "O resultado indica que a acurácia do modelo de Árvore de Decisão é de aproximadamente 56,33%. A acurácia é a proporção de previsões corretas em relação ao total de previsões. Neste caso, o modelo de Árvore de Decisão está fazendo previsões corretas para 56,33% dos exemplos no conjunto de teste (X_testset e y_testset).\n",
    "\n",
    "É importante notar que a acurácia por si só não fornece uma imagem completa do desempenho do modelo, especialmente se as classes estiverem desequilibradas no conjunto de dados. Dependendo do problema e do objetivo, você pode querer considerar outras métricas de avaliação, como precisão, revocação e F1-score, para ter uma compreensão mais aprofundada do desempenho do modelo.\n",
    "\n",
    "Além disso, é possível que o modelo possa ser melhorado ajustando os hiperparâmetros, como a profundidade máxima da árvore ou o critério de divisão, ou utilizando técnicas como validação cruzada para otimizar o treinamento e a avaliação do modelo.\n"
   ]
  },
  {
   "cell_type": "markdown",
   "id": "f61f88cb-feb4-4451-95f5-439cc2847122",
   "metadata": {},
   "source": [
    "A métrica de acurácia de classificação está focada na correspondência exata entre o conjunto de rótulos previstos e o conjunto verdadeiro de rótulos. Especificamente, na classificação multirrótulo, a acurácia do subconjunto é calculada, resultando em 1,0 (100%) para correspondências perfeitas e 0,0 (0%) para correspondências imperfeitas."
   ]
  },
  {
   "cell_type": "markdown",
   "id": "a73207e9-4a9d-48c7-98a8-95d85c9e575a",
   "metadata": {},
   "source": [
    "<div id=\"visualizacao\">\n",
    "    <h2>Visualização da Árvore de Decisão</h2> \n",
    "</div>\n",
    "\n",
    "Vamos visualizar a árvore\n",
    "\n",
    "Neste trecho de código, estamos importando o módulo **tree** do **sklearn** e usando a função **plot_tree** para visualizar a árvore de decisão chamada **\"emprestimos\"**.\n",
    "\n",
    "A função **plot_tree** gera um diagrama que mostra a estrutura da árvore de decisão, incluindo as divisões e os nós folha.\n",
    "\n",
    "Em seguida, usamos a função **plt.show()** do matplotlib para exibir a visualização da árvore."
   ]
  },
  {
   "cell_type": "code",
   "execution_count": 22,
   "id": "be7d2cb5-0d65-4026-a00a-f37d5c982010",
   "metadata": {},
   "outputs": [
    {
     "data": {
      "image/png": "[encoded data removed]",
      "text/plain": [
       "<Figure size 432x288 with 1 Axes>"
      ]
     },
     "metadata": {
      "needs_background": "light"
     },
     "output_type": "display_data"
    }
   ],
   "source": [
    "# Importando o módulo tree do sklearn\n",
    "from sklearn import tree\n",
    "\n",
    "# Visualizando a Árvore de Decisão emprestimos\n",
    "tree.plot_tree(emprestimos)\n",
    "plt.show()\n"
   ]
  }
 ],
 "metadata": {
  "kernelspec": {
   "display_name": "anaconda-2022.05-py39",
   "language": "python",
   "name": "conda-env-anaconda-2022.05-py39-py"
  },
  "language_info": {
   "codemirror_mode": {
    "name": "ipython",
    "version": 3
   },
   "file_extension": ".py",
   "mimetype": "text/x-python",
   "name": "python",
   "nbconvert_exporter": "python",
   "pygments_lexer": "ipython3",
   "version": "3.9.12"
  }
 },
 "nbformat": 4,
 "nbformat_minor": 5
}

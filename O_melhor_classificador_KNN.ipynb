{
 "cells": [
  {
   "cell_type": "markdown",
   "id": "08856378-3cd7-49e1-a1ac-a708ca6bb41c",
   "metadata": {},
   "source": [
    "### Tarefa:\n",
    "Neste projeto, será construido um classificador para prever se um caso de empréstimo poderá ser pago ou não.\n",
    "\n",
    "Iremos carregar um conjunto de dados históricos de solicitações para empréstimos anteriores, limpar os dados e aplicar algoritmos de classificação diferentes. Serão usados os seguintes algoritmos para construir os modelos:\n",
    "\n",
    "### Neste Notebook será aplicado o seguinte modelo: **k-vizinhos mais próximos**\n",
    "\n",
    "Árvore de decisão\n",
    "\n",
    "Máquina de vetores de suporte (SVM)\n",
    "\n",
    "Regressão logística\n",
    "\n",
    "O resultado é relatado como a precisão de cada classificador, usando as seguintes métricas quando estas são aplicáveis:\n",
    "\n",
    "#### Índice de Jaccard\n",
    "\n",
    "#### F1-score\n",
    "\n",
    "#### LogLoass\n"
   ]
  },
  {
   "cell_type": "markdown",
   "id": "eed6b3c8-1b8e-4c60-9e5c-b29d773b7688",
   "metadata": {},
   "source": [
    "<h1>Indice</h1>\n",
    "\n",
    "<div class=\"alert alert-block alert-info\" style=\"margin-top: 20px\">\n",
    "    <ol>\n",
    "        <li><a href=\"https://#about_dataset\">O nosso conjunto de dados</a></li>\n",
    "        <li><a href=\"https://#Visualização_análise_dados\">Visualização e análise de dados</a></li>\n",
    "        <li><a href=\"https://#divisao_treino\">Divisão Treino/Teste</a></li>\n",
    "        <li><a href=\"https://#classification\">K-Nearest Neighbors</a></li>\n",
    "        <li><a href=\"https://#treino\">Treinamento</a></li>\n",
    "        <li><a href=\"https://#previsao\">Previsão</a></li>\n",
    "        <li><a href=\"https://#avaliacao_acuracia\">Avaliação da acurácia</a></li>\n",
    "        <li><a href=\"https://#melhorar_acuracia\">Tentar melhorar a acurácia</a></li>\n",
    "        <li><a href=\"https://#grafico_acuracia_k\">Gráfico da acurácia do modelo KNN para diferentes valores de K</a></li>\n",
    "        <li><a href=\"https://#resultados\">Resultados</a></li>\n",
    "        <li><a href=\"https://#jaccard\">índice de Jaccard</a></li>\n",
    "        <li><a href=\"https://#f1-score\">F1-score</a></li>\n",
    "        <li><a href=\"https://#logloss\">LogLoss</a></li>\n",
    "        <li><a href=\"https://#o_grafico\">O Gráfico KNN</a></li>\n",
    "    </ol>\n",
    "</div>\n",
    "<br>\n",
    "<hr>\n",
    "\n"
   ]
  },
  {
   "cell_type": "markdown",
   "id": "01cfd767-d37f-4104-b601-28c485e98ff6",
   "metadata": {},
   "source": [
    "<div id=\"about_dataset\">\n",
    "    <h2>O nosso conjunto de dados</h2>\n",
    "</div>\n",
    "\n",
    "Vamos começar por criar um conjunto de dados histórico de solicitações para empréstimos anteriores.\n",
    "\n",
    "O código (Python) a seguir é usado para gerar um arquivo CSV com as colunas abaixo indicadas e valores aleatórios. Vou utilizar a biblioteca pandas e random para facilitar a criação e gravação do arquivo.\n",
    "\n",
    "**Número** (sequencial)\n",
    "\n",
    "**Região** (1, 2, 3 ou 4)\n",
    "\n",
    "**Idade** (entre 18 e 65 anos)\n",
    "\n",
    "**Casado** (1 ou 0)\n",
    "\n",
    "**Rendimentos** (entre 100 e 200)\n",
    "\n",
    "**Género** (1 ou 0)\n",
    "\n",
    "**Aprovação** (1 ou 0)\n",
    "\n",
    "Uma vez que a base de dados que constitui o DataFrame é fictício e para facilitar a interpretação dos dados vamos criar algumas condições para a aprovação dos empréstimos.\n"
   ]
  },
  {
   "cell_type": "code",
   "execution_count": 35,
   "id": "8e24faa7-a988-447f-80cc-9c3c9b6345c5",
   "metadata": {},
   "outputs": [],
   "source": [
    "import pandas as pd\n",
    "import random\n",
    "\n",
    "# Número de registros no conjunto de dados\n",
    "num_registros = 1000\n",
    "\n",
    "# Inicializando listas vazias para cada coluna\n",
    "numeros = []\n",
    "regioes = []\n",
    "idades = []\n",
    "casados = []\n",
    "rendimentos = []\n",
    "generos = []\n",
    "aprovacoes = []\n",
    "\n",
    "# Gerando valores aleatórios para cada coluna\n",
    "for i in range(num_registros):\n",
    "    numeros.append(i+1)\n",
    "    regioes.append(random.choice([1, 2, 3, 4]))\n",
    "    idades.append(random.randint(18, 65))\n",
    "    casados.append(random.choice([1, 0]))\n",
    "    rendimentos.append(random.randint(100, 200))\n",
    "    generos.append(random.choice([1, 0]))\n",
    "    aprovacoes.append(random.choice([1, 0]))\n",
    "\n",
    "# Criando um DataFrame pandas com os dados gerados\n",
    "dados = pd.DataFrame({\n",
    "    'Número': numeros,\n",
    "    'Região': regioes,\n",
    "    'Idade': idades,\n",
    "    'Casado': casados,\n",
    "    'Rendimentos': rendimentos,\n",
    "    'Género': generos,\n",
    "    'Aprovação': aprovacoes\n",
    "})\n",
    "\n",
    "# Atualizando a coluna 'Aprovação' de acordo com as condições especificadas\n",
    "for index, row in dados.iterrows():\n",
    "    if row['Idade'] > 40 and row['Casado'] == 1 and row['Rendimentos'] > 150:\n",
    "        dados.at[index, 'Aprovação'] = 1\n",
    "\n",
    "# Escrevendo os dados em um arquivo CSV\n",
    "# dados.to_csv('dados_emprestimos.csv', index=False)\n"
   ]
  },
  {
   "cell_type": "markdown",
   "id": "06f253fa-afdd-4bd4-a959-a596fcf9006a",
   "metadata": {},
   "source": [
    "<div id=\"Visualização_análise_dados\">\n",
    "    <h2>Visualização e análise de dados</h2> \n",
    "</div>\n",
    "\n",
    "Agora vamos ver as primeiras cinco linhas do DataFrame que acabamos de criar"
   ]
  },
  {
   "cell_type": "code",
   "execution_count": 36,
   "id": "4fd89f4a-019d-451d-aae5-ad88d7773cc5",
   "metadata": {},
   "outputs": [
    {
     "data": {
      "text/html": [
       "<div>\n",
       "<style scoped>\n",
       "    .dataframe tbody tr th:only-of-type {\n",
       "        vertical-align: middle;\n",
       "    }\n",
       "\n",
       "    .dataframe tbody tr th {\n",
       "        vertical-align: top;\n",
       "    }\n",
       "\n",
       "    .dataframe thead th {\n",
       "        text-align: right;\n",
       "    }\n",
       "</style>\n",
       "<table border=\"1\" class=\"dataframe\">\n",
       "  <thead>\n",
       "    <tr style=\"text-align: right;\">\n",
       "      <th></th>\n",
       "      <th>Número</th>\n",
       "      <th>Região</th>\n",
       "      <th>Idade</th>\n",
       "      <th>Casado</th>\n",
       "      <th>Rendimentos</th>\n",
       "      <th>Género</th>\n",
       "      <th>Aprovação</th>\n",
       "    </tr>\n",
       "  </thead>\n",
       "  <tbody>\n",
       "    <tr>\n",
       "      <th>0</th>\n",
       "      <td>1</td>\n",
       "      <td>4</td>\n",
       "      <td>47</td>\n",
       "      <td>1</td>\n",
       "      <td>109</td>\n",
       "      <td>0</td>\n",
       "      <td>0</td>\n",
       "    </tr>\n",
       "    <tr>\n",
       "      <th>1</th>\n",
       "      <td>2</td>\n",
       "      <td>4</td>\n",
       "      <td>33</td>\n",
       "      <td>0</td>\n",
       "      <td>154</td>\n",
       "      <td>1</td>\n",
       "      <td>1</td>\n",
       "    </tr>\n",
       "    <tr>\n",
       "      <th>2</th>\n",
       "      <td>3</td>\n",
       "      <td>4</td>\n",
       "      <td>39</td>\n",
       "      <td>0</td>\n",
       "      <td>115</td>\n",
       "      <td>1</td>\n",
       "      <td>0</td>\n",
       "    </tr>\n",
       "    <tr>\n",
       "      <th>3</th>\n",
       "      <td>4</td>\n",
       "      <td>4</td>\n",
       "      <td>19</td>\n",
       "      <td>0</td>\n",
       "      <td>154</td>\n",
       "      <td>1</td>\n",
       "      <td>1</td>\n",
       "    </tr>\n",
       "    <tr>\n",
       "      <th>4</th>\n",
       "      <td>5</td>\n",
       "      <td>1</td>\n",
       "      <td>56</td>\n",
       "      <td>0</td>\n",
       "      <td>185</td>\n",
       "      <td>0</td>\n",
       "      <td>1</td>\n",
       "    </tr>\n",
       "  </tbody>\n",
       "</table>\n",
       "</div>"
      ],
      "text/plain": [
       "   Número  Região  Idade  Casado  Rendimentos  Género  Aprovação\n",
       "0       1       4     47       1          109       0          0\n",
       "1       2       4     33       0          154       1          1\n",
       "2       3       4     39       0          115       1          0\n",
       "3       4       4     19       0          154       1          1\n",
       "4       5       1     56       0          185       0          1"
      ]
     },
     "execution_count": 36,
     "metadata": {},
     "output_type": "execute_result"
    }
   ],
   "source": [
    "dados.head()"
   ]
  },
  {
   "cell_type": "markdown",
   "id": "f0657b9a-d13b-48e9-824b-a23d0ae4952c",
   "metadata": {},
   "source": [
    "Vamos ver um resumo estatístico das colunas do nosso DataFrame\n",
    "\n",
    "Este resumo inclui medidas estatísticas como contagem, média, desvio padrão, mínimo, máximo e os percentis (25%, 50% e 75%). Aqui está uma explicação de cada medida:\n",
    "\n",
    "\n",
    "**count**: número de registros não nulos ou não faltantes na coluna.\n",
    "\n",
    "**mean**: média aritmética dos valores na coluna.\n",
    "\n",
    "**std**: desvio padrão, que é uma medida de dispersão que indica o quanto os valores se desviam da média.\n",
    "\n",
    "**min**: valor mínimo na coluna.\n",
    "\n",
    "**25%**: primeiro quartil (Q1), que é o valor que separa os 25% mais baixos dos valores na coluna.\n",
    "\n",
    "**50%**: segundo quartil (Q2) ou mediana, que é o valor que separa os 50% mais baixos dos valores na coluna.\n",
    "\n",
    "**75%**: terceiro quartil (Q3), que é o valor que separa os 75% mais baixos dos valores na coluna.\n",
    "\n",
    "**max**: valor máximo na coluna."
   ]
  },
  {
   "cell_type": "code",
   "execution_count": 37,
   "id": "c17b605a-12b2-4f9d-a5df-248933078aca",
   "metadata": {},
   "outputs": [
    {
     "data": {
      "text/html": [
       "<div>\n",
       "<style scoped>\n",
       "    .dataframe tbody tr th:only-of-type {\n",
       "        vertical-align: middle;\n",
       "    }\n",
       "\n",
       "    .dataframe tbody tr th {\n",
       "        vertical-align: top;\n",
       "    }\n",
       "\n",
       "    .dataframe thead th {\n",
       "        text-align: right;\n",
       "    }\n",
       "</style>\n",
       "<table border=\"1\" class=\"dataframe\">\n",
       "  <thead>\n",
       "    <tr style=\"text-align: right;\">\n",
       "      <th></th>\n",
       "      <th>Número</th>\n",
       "      <th>Região</th>\n",
       "      <th>Idade</th>\n",
       "      <th>Casado</th>\n",
       "      <th>Rendimentos</th>\n",
       "      <th>Género</th>\n",
       "      <th>Aprovação</th>\n",
       "    </tr>\n",
       "  </thead>\n",
       "  <tbody>\n",
       "    <tr>\n",
       "      <th>count</th>\n",
       "      <td>1000.000000</td>\n",
       "      <td>1000.000000</td>\n",
       "      <td>1000.000000</td>\n",
       "      <td>1000.00000</td>\n",
       "      <td>1000.000000</td>\n",
       "      <td>1000.000000</td>\n",
       "      <td>1000.000000</td>\n",
       "    </tr>\n",
       "    <tr>\n",
       "      <th>mean</th>\n",
       "      <td>500.500000</td>\n",
       "      <td>2.527000</td>\n",
       "      <td>41.340000</td>\n",
       "      <td>0.52000</td>\n",
       "      <td>150.155000</td>\n",
       "      <td>0.492000</td>\n",
       "      <td>0.564000</td>\n",
       "    </tr>\n",
       "    <tr>\n",
       "      <th>std</th>\n",
       "      <td>288.819436</td>\n",
       "      <td>1.116475</td>\n",
       "      <td>13.977617</td>\n",
       "      <td>0.49985</td>\n",
       "      <td>29.349077</td>\n",
       "      <td>0.500186</td>\n",
       "      <td>0.496135</td>\n",
       "    </tr>\n",
       "    <tr>\n",
       "      <th>min</th>\n",
       "      <td>1.000000</td>\n",
       "      <td>1.000000</td>\n",
       "      <td>18.000000</td>\n",
       "      <td>0.00000</td>\n",
       "      <td>100.000000</td>\n",
       "      <td>0.000000</td>\n",
       "      <td>0.000000</td>\n",
       "    </tr>\n",
       "    <tr>\n",
       "      <th>25%</th>\n",
       "      <td>250.750000</td>\n",
       "      <td>2.000000</td>\n",
       "      <td>30.000000</td>\n",
       "      <td>0.00000</td>\n",
       "      <td>125.000000</td>\n",
       "      <td>0.000000</td>\n",
       "      <td>0.000000</td>\n",
       "    </tr>\n",
       "    <tr>\n",
       "      <th>50%</th>\n",
       "      <td>500.500000</td>\n",
       "      <td>2.000000</td>\n",
       "      <td>41.000000</td>\n",
       "      <td>1.00000</td>\n",
       "      <td>151.000000</td>\n",
       "      <td>0.000000</td>\n",
       "      <td>1.000000</td>\n",
       "    </tr>\n",
       "    <tr>\n",
       "      <th>75%</th>\n",
       "      <td>750.250000</td>\n",
       "      <td>4.000000</td>\n",
       "      <td>54.000000</td>\n",
       "      <td>1.00000</td>\n",
       "      <td>175.000000</td>\n",
       "      <td>1.000000</td>\n",
       "      <td>1.000000</td>\n",
       "    </tr>\n",
       "    <tr>\n",
       "      <th>max</th>\n",
       "      <td>1000.000000</td>\n",
       "      <td>4.000000</td>\n",
       "      <td>65.000000</td>\n",
       "      <td>1.00000</td>\n",
       "      <td>200.000000</td>\n",
       "      <td>1.000000</td>\n",
       "      <td>1.000000</td>\n",
       "    </tr>\n",
       "  </tbody>\n",
       "</table>\n",
       "</div>"
      ],
      "text/plain": [
       "            Número       Região        Idade      Casado  Rendimentos  \\\n",
       "count  1000.000000  1000.000000  1000.000000  1000.00000  1000.000000   \n",
       "mean    500.500000     2.527000    41.340000     0.52000   150.155000   \n",
       "std     288.819436     1.116475    13.977617     0.49985    29.349077   \n",
       "min       1.000000     1.000000    18.000000     0.00000   100.000000   \n",
       "25%     250.750000     2.000000    30.000000     0.00000   125.000000   \n",
       "50%     500.500000     2.000000    41.000000     1.00000   151.000000   \n",
       "75%     750.250000     4.000000    54.000000     1.00000   175.000000   \n",
       "max    1000.000000     4.000000    65.000000     1.00000   200.000000   \n",
       "\n",
       "            Género    Aprovação  \n",
       "count  1000.000000  1000.000000  \n",
       "mean      0.492000     0.564000  \n",
       "std       0.500186     0.496135  \n",
       "min       0.000000     0.000000  \n",
       "25%       0.000000     0.000000  \n",
       "50%       0.000000     1.000000  \n",
       "75%       1.000000     1.000000  \n",
       "max       1.000000     1.000000  "
      ]
     },
     "execution_count": 37,
     "metadata": {},
     "output_type": "execute_result"
    }
   ],
   "source": [
    "dados.describe()"
   ]
  },
  {
   "cell_type": "markdown",
   "id": "b25f1263-1476-4e90-b7c4-585ddd61e32f",
   "metadata": {},
   "source": [
    "Agora vamos ver quantos emprestimos foram Aprovados (1) e quantos foram Reprovados (0)"
   ]
  },
  {
   "cell_type": "code",
   "execution_count": 38,
   "id": "c1440649-bf44-48b4-87b6-45a5818958ae",
   "metadata": {},
   "outputs": [
    {
     "data": {
      "text/plain": [
       "1    564\n",
       "0    436\n",
       "Name: Aprovação, dtype: int64"
      ]
     },
     "execution_count": 38,
     "metadata": {},
     "output_type": "execute_result"
    }
   ],
   "source": [
    "dados['Aprovação'].value_counts()"
   ]
  },
  {
   "cell_type": "markdown",
   "id": "1ddac550-45a5-4acb-b75e-c481fc71bfd9",
   "metadata": {},
   "source": [
    "Vamos explorar os nossos dados usando uma técnica de visualização."
   ]
  },
  {
   "cell_type": "code",
   "execution_count": 39,
   "id": "506841fd-1662-4cd5-9a04-1e5e8add9c0a",
   "metadata": {},
   "outputs": [
    {
     "data": {
      "text/plain": [
       "array([[<AxesSubplot:title={'center':'Rendimentos'}>]], dtype=object)"
      ]
     },
     "execution_count": 39,
     "metadata": {},
     "output_type": "execute_result"
    },
    {
     "data": {
      "image/png": "[encoded data removed]",
      "text/plain": [
       "<Figure size 432x288 with 1 Axes>"
      ]
     },
     "metadata": {
      "needs_background": "light"
     },
     "output_type": "display_data"
    }
   ],
   "source": [
    "dados.hist(column='Rendimentos', bins=50)"
   ]
  },
  {
   "cell_type": "markdown",
   "id": "6bd0b739-4ab3-4774-b6d1-cb1b6a62d939",
   "metadata": {},
   "source": [
    "<div id=\"classification\">\n",
    "    <h2>K-Nearest Neighbors</h2> \n",
    "</div>\n",
    "\n",
    "### Agora vamos usar o algoritmo K-Nearest Neighbors para classificar os dados"
   ]
  },
  {
   "cell_type": "markdown",
   "id": "a32c7a59-0a8d-4a30-a269-2cb9f996ec9b",
   "metadata": {},
   "source": [
    "Para usar a biblioteca scikit-learn, precisamos converter o DataFrame do pandas para um array do Numpy.\n",
    "\n",
    "Neste trecho de código, estamos a selecionar apenas as colunas 'Região', 'Idade', 'Casado', 'Rendimentos' e 'Género' do DataFrame dados e a converter o resultado em um array do Numpy usando a propriedade .values. O resultado é armazenado na variável X.\n",
    "\n",
    "Depois vamos exibir as primeiras cinco linhas do array do Numpy X. A notação de fatiamento 0:5 seleciona as linhas de índice 0 a 4"
   ]
  },
  {
   "cell_type": "code",
   "execution_count": 40,
   "id": "47908a6e-bd30-485b-8d96-05df98fc8589",
   "metadata": {},
   "outputs": [
    {
     "data": {
      "text/plain": [
       "array([[  4,  47,   1, 109,   0],\n",
       "       [  4,  33,   0, 154,   1],\n",
       "       [  4,  39,   0, 115,   1],\n",
       "       [  4,  19,   0, 154,   1],\n",
       "       [  1,  56,   0, 185,   0]])"
      ]
     },
     "execution_count": 40,
     "metadata": {},
     "output_type": "execute_result"
    }
   ],
   "source": [
    "X = dados[['Região', 'Idade', 'Casado', 'Rendimentos', 'Género']].values\n",
    "X[0:5]"
   ]
  },
  {
   "cell_type": "markdown",
   "id": "8c9ca8c4-f4cb-45eb-b974-7122b1b11182",
   "metadata": {},
   "source": [
    "### Agora vamos definir a nossa variável dependente.\n",
    "\n",
    "Vamos selecionar a coluna 'Aprovação' do DataFrame dados e converte-la em um array do Numpy usando a propriedade .values. O resultado é armazenado na variável y. Essa variável representa o nosso rótulo, ou seja, os valores de aprovação (1) ou recusa (0) de empréstimos que queremos prever com base nos atributos fornecidos.\n",
    "\n",
    "Depois vamos exibir as primeiras cinco linhas do array do Numpy y. A notação de fatiamento 0:5 seleciona os elementos de índice 0 a 4 (o último índice não é incluído)."
   ]
  },
  {
   "cell_type": "code",
   "execution_count": 41,
   "id": "11d80a05-1070-4760-90df-81be42ce9526",
   "metadata": {},
   "outputs": [
    {
     "data": {
      "text/plain": [
       "array([0, 1, 0, 1, 1])"
      ]
     },
     "execution_count": 41,
     "metadata": {},
     "output_type": "execute_result"
    }
   ],
   "source": [
    "y = dados['Aprovação'].values\n",
    "y[0:5]"
   ]
  },
  {
   "cell_type": "markdown",
   "id": "3954c9bf-45c3-4341-983b-b891aaffcab6",
   "metadata": {},
   "source": [
    "A padronização de dados é uma técnica de pré-processamento que transforma os dados para que eles tenham média zero e variância unitária. Isso é especialmente útil para algoritmos de aprendizado de máquina, como o KNN (k-Nearest Neighbors), que calcula a distância entre os pontos de dados para fazer previsões.\n",
    "\n",
    "Vamos de seguida aplicar a padronização aos dados no array X.\n",
    "\n",
    "Primeiro, importamos a classe StandardScaler do módulo preprocessing da biblioteca scikit-learn.\n",
    "\n",
    "Em seguida, instanciamos um objeto StandardScaler e o ajustamos aos dados em X usando o método fit().\n",
    "\n",
    "Depois disso, transformamos os dados de X usando o método transform() e convertendo-os em valores do tipo float com X.astype(float).\n",
    "\n",
    "O resultado da padronização é armazenado de volta na variável X."
   ]
  },
  {
   "cell_type": "code",
   "execution_count": 42,
   "id": "e84542fc-48fd-43a5-bd1e-f2f4fca3fccd",
   "metadata": {},
   "outputs": [],
   "source": [
    "from sklearn import preprocessing"
   ]
  },
  {
   "cell_type": "code",
   "execution_count": 43,
   "id": "9226c840-d30c-4507-8929-ebc4431d6405",
   "metadata": {},
   "outputs": [
    {
     "data": {
      "text/plain": [
       "array([[ 1.31999051,  0.40513574,  0.96076892, -1.40296039, -0.98412598],\n",
       "       [ 1.31999051, -0.59696679, -1.040833  ,  0.13107478,  1.01613007],\n",
       "       [ 1.31999051, -0.16749428, -1.040833  , -1.19842236,  1.01613007],\n",
       "       [ 1.31999051, -1.59906932, -1.040833  ,  0.13107478,  1.01613007],\n",
       "       [-1.3683812 ,  1.04934451, -1.040833  ,  1.18785457, -0.98412598]])"
      ]
     },
     "execution_count": 43,
     "metadata": {},
     "output_type": "execute_result"
    }
   ],
   "source": [
    "X = preprocessing.StandardScaler().fit(X).transform(X.astype(float))\n",
    "\n",
    "X[0:5]"
   ]
  },
  {
   "cell_type": "markdown",
   "id": "df088c26-cb62-4cce-a783-ecc811acd713",
   "metadata": {},
   "source": [
    "<div id=\"divisao_treino\">\n",
    "    <h2>Divisão Treino/Teste</h2>\n",
    "</div>\n",
    "\n",
    "A Acurácia fora da amostra é a porcentagem de previsões corretas que o modelo faz em dados que ele NÃO foi treinado. Fazer um treino e teste no mesmo conjunto de dados provavelmente resultará em uma baixa acurácia fora da amostra, devido à possibilidade de nosso modelo apresentar overfitting (sobreajuste).\n",
    "\n",
    "É importante que nossos modelos tenham uma alta acurácia fora da amostra, porque o propósito de qualquer modelo, é claro, é fazer previsões corretas em dados desconhecidos. Então, como podemos melhorar a acurácia fora da amostra? Uma maneira é usar uma abordagem de avaliação chamada Divisão Treino/Teste. A Divisão Treino/Teste envolve dividir o conjunto de dados em conjuntos de treinamento e teste, respectivamente, que são mutuamente exclusivos. Depois disso, você treina com o conjunto de treinamento e testa com o conjunto de teste.\n",
    "\n",
    "Isso fornecerá uma avaliação mais precisa da acurácia fora da amostra, porque o conjunto de dados de teste não faz parte do conjunto de dados usado para treinar o modelo. É mais realista para problemas do mundo real.\n",
    "\n",
    "Ou seja, nos parágrafos a cima, é explicada a importância da divisão treino/teste como uma técnica para avaliar a capacidade do modelo de fazer previsões corretas em dados desconhecidos. A ideia é separar os dados em dois conjuntos mutuamente exclusivos, um para treinar o modelo e outro para testá-lo, permitindo uma avaliação mais realista e evitando o problema de sobreajuste."
   ]
  },
  {
   "cell_type": "markdown",
   "id": "9214fbe3-5007-4924-a454-713decfd916b",
   "metadata": {},
   "source": [
    "A seguir vamos importar a função train_test_split da biblioteca scikit-learn e usa-la para dividir os dados em conjuntos de treinamento e teste.\n",
    "\n",
    "A divisão é feita de forma a separar 20% dos dados para o conjunto de teste e os outros 80% para o conjunto de treinamento.\n",
    "\n",
    "Depois, são impressas as dimensões dos conjuntos de treinamento e teste, mostrando o número de linhas e colunas em cada um."
   ]
  },
  {
   "cell_type": "code",
   "execution_count": 44,
   "id": "392b2611-78d2-41cf-bf02-23fced487b3f",
   "metadata": {},
   "outputs": [
    {
     "name": "stdout",
     "output_type": "stream",
     "text": [
      "Train set: (800, 5) (800,)\n",
      "Test set: (200, 5) (200,)\n"
     ]
    }
   ],
   "source": [
    "# Importa a função train_test_split do módulo model_selection da biblioteca scikit-learn\n",
    "from sklearn.model_selection import train_test_split\n",
    "\n",
    "# Divide os dados em conjuntos de treinamento e teste usando a função train_test_split\n",
    "# X e y são os dados e os rótulos, respectivamente\n",
    "# test_size=0.2 define que 20% dos dados serão usados para o conjunto de teste\n",
    "# random_state=4 é usado para garantir resultados reproduzíveis ao dividir os dados\n",
    "X_train, X_test, y_train, y_test = train_test_split(X, y, test_size=0.2, random_state=4)\n",
    "\n",
    "# Imprime o formato (número de linhas e colunas) dos conjuntos de treinamento (X_train e y_train)\n",
    "print('Train set:', X_train.shape, y_train.shape)\n",
    "\n",
    "# Imprime o formato (número de linhas e colunas) dos conjuntos de teste (X_test e y_test)\n",
    "print('Test set:', X_test.shape, y_test.shape)\n"
   ]
  },
  {
   "cell_type": "markdown",
   "id": "4595dec1-cbde-4143-9582-e9c9256efebc",
   "metadata": {},
   "source": [
    "<div id=\"classification\">\n",
    "    <h2>Classificação</h2>\n",
    "</div>\n",
    "\n",
    "<h3>K nearest neighbor (KNN)</h3>\n",
    "\n",
    "Vamos importar o classificador que implementa a votação dos k-vizinhos mais próximos.\n",
    "\n",
    "O k-Nearest Neighbors é um algoritmo de aprendizado supervisionado utilizado para classificação e regressão. Ele funciona encontrando os \"k\" exemplos de treinamento mais próximos de um novo ponto de dados e prevendo a classe (para classificação) ou valor (para regressão) com base nessas amostras próximas.\n",
    "\n",
    "Vamos importar a classe KNeighborsClassifier do módulo neighbors da biblioteca scikit-learn.\n",
    "\n",
    "A classe KNeighborsClassifier é a implementação do algoritmo k-Nearest Neighbors para problemas de classificação no scikit-learn. Ao importar essa classe, podemos criar um objeto KNeighborsClassifier para treinar um modelo de classificação k-NN e fazer previsões com base nos dados fornecidos."
   ]
  },
  {
   "cell_type": "code",
   "execution_count": 45,
   "id": "e215aaa3-30e5-4c43-a35f-a07c3012685a",
   "metadata": {},
   "outputs": [],
   "source": [
    "from sklearn.neighbors import KNeighborsClassifier"
   ]
  },
  {
   "cell_type": "markdown",
   "id": "6af2c665-4046-4b51-a708-1aa20054e6c0",
   "metadata": {},
   "source": [
    "<div id=\"treino\">\n",
    "    <h2>Treinamento</h2>\n",
    "</div>\n",
    "\n",
    "Vamos começar o algoritmo com k=4 por enquanto.\n",
    "\n",
    "Neste trecho de código, estamos definindo o valor de k (número de vizinhos mais próximos) como 4 e criando uma instância da classe KNeighborsClassifier com esse valor.\n",
    "\n",
    "Em seguida, ajustamos (treinamos) o modelo usando os dados de treinamento (X_train e y_train). \n",
    "\n",
    "Por fim, imprimimos o objeto neigh, que é a instância treinada do modelo KNeighborsClassifier.\n",
    "\n",
    "Aqui, estamos treinando um modelo k-NN para classificação, utilizando o valor de k=4, o que significa que o modelo irá considerar os 4 vizinhos mais próximos ao fazer previsões."
   ]
  },
  {
   "cell_type": "code",
   "execution_count": 46,
   "id": "e21d6e41-abb1-4d71-b733-7434970dc7f6",
   "metadata": {},
   "outputs": [
    {
     "name": "stdout",
     "output_type": "stream",
     "text": [
      "KNeighborsClassifier(n_neighbors=4)\n"
     ]
    }
   ],
   "source": [
    "# Define o valor de k, que é o número de vizinhos mais próximos a serem considerados\n",
    "k = 4\n",
    "\n",
    "# Cria uma instância da classe KNeighborsClassifier com o valor de k definido\n",
    "# Em seguida, ajusta (treina) o modelo usando os dados de treinamento (X_train e y_train)\n",
    "neigh = KNeighborsClassifier(n_neighbors=k).fit(X_train, y_train)\n",
    "\n",
    "# Imprime o objeto neigh, que é a instância treinada do modelo KNeighborsClassifier\n",
    "print(neigh)\n"
   ]
  },
  {
   "cell_type": "markdown",
   "id": "4cc2878d-6718-45d1-be80-168f7391ddcd",
   "metadata": {},
   "source": [
    "<div id=\"previsao\">\n",
    "    <h2>Previsão</h2>\n",
    "</div>\n",
    "\n",
    "Podemos usar o modelo para fazer previsões no conjunto de teste.\n",
    "\n",
    "Neste trecho de código, estamos usando o modelo k-NN treinado (armazenado no objeto **neigh**) para fazer previsões no conjunto de teste **X_test**. O método **predict()** da instância **neigh** é utilizado para gerar as previsões, que são armazenadas na variável **yhat**. Em seguida, imprimimos as primeiras cinco previsões armazenadas em **yhat**."
   ]
  },
  {
   "cell_type": "code",
   "execution_count": 47,
   "id": "20c4519a-9244-4f69-8a40-718539102fec",
   "metadata": {},
   "outputs": [
    {
     "name": "stdout",
     "output_type": "stream",
     "text": [
      "[1 0 1 0 0]\n"
     ]
    }
   ],
   "source": [
    "# Utiliza o modelo treinado (neigh) para fazer previsões no conjunto de teste (X_test)\n",
    "yhat = neigh.predict(X_test)\n",
    "\n",
    "# Imprime as primeiras 5 previsões feitas pelo modelo no conjunto de teste\n",
    "print(yhat[0:5])\n"
   ]
  },
  {
   "cell_type": "markdown",
   "id": "1474c2ab-fb6c-4bc9-8097-0e99e5adb88c",
   "metadata": {},
   "source": [
    "As previsões a cima, podem ser comparadas com os rótulos reais do conjunto de teste (**y_test**) para avaliar o desempenho do modelo em termos de acurácia, precisão, revocação, F1-score, entre outras métricas de avaliação."
   ]
  },
  {
   "cell_type": "markdown",
   "id": "bd81b2b6-2022-41b7-bdc3-7055e5d802d9",
   "metadata": {},
   "source": [
    "<div id=\"avaliacao_acuracia\">\n",
    "    <h2>Avaliação da acurácia</h2>\n",
    "</div>\n",
    "\n",
    "Na classificação multirrótulo, a função de pontuação de acurácia da classificação é uma função que calcula a acurácia do subconjunto. Essa função é igual à função **jaccard_score**. Essencialmente, ela calcula o quão próximos os rótulos reais e os rótulos previstos estão no conjunto de teste.\n",
    "\n",
    "Neste trecho de código, vamos importar o módulo **metrics** da biblioteca scikit-learn e usar a função **accuracy_score** para calcular a acurácia do modelo nos conjuntos de treinamento e teste.\n",
    "\n",
    "A acurácia é uma medida de desempenho que indica a proporção de previsões corretas feitas pelo modelo em relação ao total de previsões.\n",
    "\n",
    "Primeiro, calculamos a acurácia do conjunto de treinamento comparando os rótulos reais (**y_train**) com as previsões feitas pelo modelo no conjunto de treinamento.\n",
    "\n",
    "Em seguida, calculamos a acurácia do conjunto de teste comparando os rótulos reais (**y_test**) com as previsões feitas pelo modelo no conjunto de teste (**yhat**).\n",
    "\n",
    "Esses valores nos ajudam a entender o quão bem o modelo está se saindo tanto nos dados de treinamento quanto nos dados de teste."
   ]
  },
  {
   "cell_type": "code",
   "execution_count": 48,
   "id": "ed757831-d007-47ce-97ae-f4723d81a187",
   "metadata": {},
   "outputs": [
    {
     "name": "stdout",
     "output_type": "stream",
     "text": [
      "Train set Accuracy:  0.705\n",
      "Test set Accuracy:  0.56\n"
     ]
    }
   ],
   "source": [
    "# Importa o módulo metrics da biblioteca scikit-learn, que fornece funções para avaliação de modelos\n",
    "from sklearn import metrics\n",
    "\n",
    "# Calcula e imprime a acurácia do modelo no conjunto de treinamento\n",
    "# Compara os rótulos reais (y_train) com as previsões feitas pelo modelo no conjunto de treinamento\n",
    "print(\"Train set Accuracy: \", metrics.accuracy_score(y_train, neigh.predict(X_train)))\n",
    "\n",
    "# Calcula e imprime a acurácia do modelo no conjunto de teste\n",
    "# Compara os rótulos reais (y_test) com as previsões feitas pelo modelo no conjunto de teste (yhat)\n",
    "print(\"Test set Accuracy: \", metrics.accuracy_score(y_test, yhat))\n"
   ]
  },
  {
   "cell_type": "code",
   "execution_count": 61,
   "id": "82758b74-4995-45de-8477-24f18a50e9c0",
   "metadata": {},
   "outputs": [
    {
     "name": "stdout",
     "output_type": "stream",
     "text": [
      "Boa\n"
     ]
    }
   ],
   "source": [
    "if metrics.accuracy_score(y_test, yhat) > 0.5:\n",
    "    print('Boa')\n",
    "else:\n",
    "    print('Mau')"
   ]
  },
  {
   "cell_type": "markdown",
   "id": "6e999193-68ce-4273-a6ea-34558d1be0b0",
   "metadata": {},
   "source": [
    "**Train set Accuracy**: 0.705 - Este valor significa que o modelo fez previsões corretas para 70% dos exemplos no conjunto de treinamento. Em outras palavras, o modelo classificou corretamente 66% das solicitações de empréstimo no conjunto de treinamento. Isso indica que o modelo tem um desempenho razoável nos dados de treinamento.\n",
    "\n",
    "**Test set Accuracy**: 0.56 - Este valor significa que o modelo fez previsões corretas para 46,5% dos exemplos no conjunto de teste. Em outras palavras, o modelo classificou corretamente 56% das solicitações de empréstimo no conjunto de teste. A acurácia do conjunto de teste é consideravelmente menor que a acurácia do conjunto de treinamento, o que pode indicar que o modelo não está generalizando bem para novos dados.\n",
    "\n",
    "A diferença entre as acurácias do conjunto de treinamento e teste sugere que o modelo pode estar sofrendo de overfitting (sobreajuste). Overfitting ocorre quando um modelo se ajusta muito bem aos dados de treinamento, mas não consegue generalizar bem para novos dados. Isso pode ser causado por várias razões, como um valor de k inadequado, falta de regularização ou dados insuficientes.\n",
    "\n",
    "Para melhorar o desempenho do modelo, você pode tentar ajustar o valor de k, usar técnicas de validação cruzada para selecionar o melhor valor de k, ou até mesmo coletar mais dados e/ou realizar pré-processamento dos dados para melhorar a qualidade das informações fornecidas ao modelo.\n",
    "\n",
    "Uma outra razão pode ser o facto do **modelo ter sido gerado de forma aleatória** e não representar nenhum histórico de solicitações para empréstimos real, mas sim um imaginário."
   ]
  },
  {
   "cell_type": "markdown",
   "id": "ad677883-3450-4991-a53a-4796a83b98b0",
   "metadata": {},
   "source": [
    "No entanto para fins didáticos, vamos tentar com um valor de **k** diferente (6):"
   ]
  },
  {
   "cell_type": "code",
   "execution_count": 50,
   "id": "98a442fc-45c1-42b7-83bf-7b0ea233dfa4",
   "metadata": {},
   "outputs": [
    {
     "name": "stdout",
     "output_type": "stream",
     "text": [
      "Train set Accuracy:  0.6925\n",
      "Test set Accuracy:  0.575\n"
     ]
    }
   ],
   "source": [
    "# Define o valor de k, que é o número de vizinhos mais próximos a serem considerados\n",
    "k = 6\n",
    "\n",
    "# Cria uma instância da classe KNeighborsClassifier com o valor de k definido\n",
    "# Em seguida, ajusta (treina) o modelo usando os dados de treinamento (X_train e y_train)\n",
    "neigh6 = KNeighborsClassifier(n_neighbors = k).fit(X_train,y_train)\n",
    "\n",
    "# Utiliza o modelo treinado (neigh6) para fazer previsões no conjunto de teste (X_test)\n",
    "yhat6 = neigh6.predict(X_test)\n",
    "\n",
    "# Calcula e imprime a acurácia do modelo no conjunto de treinamento\n",
    "# Compara os rótulos reais (y_train) com as previsões feitas pelo modelo no conjunto de treinamento\n",
    "print(\"Train set Accuracy: \", metrics.accuracy_score(y_train, neigh6.predict(X_train)))\n",
    "\n",
    "# Calcula e imprime a acurácia do modelo no conjunto de teste\n",
    "# Compara os rótulos reais (y_test) com as previsões feitas pelo modelo no conjunto de teste (yhat)\n",
    "print(\"Test set Accuracy: \", metrics.accuracy_score(y_test, yhat6))\n"
   ]
  },
  {
   "cell_type": "markdown",
   "id": "a88a1c0b-286e-4c09-98fe-41763c9808b5",
   "metadata": {},
   "source": [
    "**Train set Accuracy**: 0.6925 - O valor das previsões corretas baixou ligeiramente.\n",
    "\n",
    "**Test set Accuracy**:  0.575 - No entanto o modelo aumentou a percentagem das previsões corretas."
   ]
  },
  {
   "cell_type": "markdown",
   "id": "4b90bf04-e78e-4aa3-af46-a90ffed01afd",
   "metadata": {},
   "source": [
    "<div id=\"melhorar_acuracia\">\n",
    "    <h2>Tentar melhorar a acurácia</h2>\n",
    "</div>\n",
    "\n",
    "Escolher o valor adequado de K é uma parte importante do processo de ajuste do modelo KNN. Para encontrar o melhor valor de K, podemos seguir os seguintes passos abaixo:\n",
    "\n",
    "Dividir os dados em conjuntos de treinamento e teste, como já fizemos anteriormente.\n",
    "\n",
    "Escolher um valor inicial de k, como k=1.\n",
    "\n",
    "Treinar o modelo KNN usando o conjunto de treinamento e o valor de k atual.\n",
    "\n",
    "Calcular a acurácia (ou outra métrica de desempenho) do modelo nas previsões feitas no conjunto de teste.\n",
    "\n",
    "Aumentar o valor de k e repitir os passos 3 e 4.\n",
    "\n",
    "Continue a aumentar o valor de k e comparar a acurácia (ou outra métrica) no conjunto de teste até encontrar o valor de k que produz o melhor desempenho.\n",
    "\n",
    "Aqui está um exemplo de código que realiza esse processo para diferentes valores de k:\n"
   ]
  },
  {
   "cell_type": "code",
   "execution_count": 51,
   "id": "c6d15808-0a7a-454d-aebd-1b31e791393e",
   "metadata": {},
   "outputs": [
    {
     "name": "stdout",
     "output_type": "stream",
     "text": [
      "Melhor valor de k: 19\n",
      "Acurácia no conjunto de teste para o melhor k: 0.63\n"
     ]
    }
   ],
   "source": [
    "from sklearn import metrics\n",
    "\n",
    "# Lista para armazenar as acurácias para cada valor de k\n",
    "accuracies = []\n",
    "\n",
    "# Intervalo de valores de k a serem testados\n",
    "k_range = range(1, 21)\n",
    "\n",
    "# Loop para treinar o modelo com diferentes valores de k e calcular a acurácia\n",
    "for k in k_range:\n",
    "    knn = KNeighborsClassifier(n_neighbors=k)\n",
    "    knn.fit(X_train, y_train)\n",
    "    y_pred = knn.predict(X_test)\n",
    "    accuracy = metrics.accuracy_score(y_test, y_pred)\n",
    "    accuracies.append(accuracy)\n",
    "\n",
    "# Encontre o valor de k com a maior acurácia\n",
    "best_k = k_range[accuracies.index(max(accuracies))]\n",
    "\n",
    "print(\"Melhor valor de k:\", best_k)\n",
    "print(\"Acurácia no conjunto de teste para o melhor k:\", max(accuracies))\n"
   ]
  },
  {
   "cell_type": "markdown",
   "id": "561e592c-0761-4f7e-b0ac-b07071a33fd1",
   "metadata": {},
   "source": [
    "<div id=\"grafico_acuracia_k\">\n",
    "    <h2>Gráfico da acurácia do modelo KNN para diferentes valores de K</h2>\n",
    "</div>\n",
    "\n",
    "Vamos usar a biblioteca **matplotlib** para criar um gráfico de linha que mostra a acurácia do modelo KNN no conjunto de teste para diferentes valores de K.\n",
    "\n",
    "O eixo **x** representa o número de vizinhos (**K**) e o eixo **y** representa a acurácia correspondente. \n",
    "\n",
    "O gráfico ajuda a visualizar a relação entre o número de vizinhos e o desempenho do modelo, facilitando a seleção de um valor apropriado para K."
   ]
  },
  {
   "cell_type": "code",
   "execution_count": 52,
   "id": "56fabb14-36aa-43e2-a2a7-9b6cfc315656",
   "metadata": {},
   "outputs": [
    {
     "data": {
      "image/png": "[encoded data removed]",
      "text/plain": [
       "<Figure size 720x432 with 1 Axes>"
      ]
     },
     "metadata": {
      "needs_background": "light"
     },
     "output_type": "display_data"
    }
   ],
   "source": [
    "import matplotlib.pyplot as plt\n",
    "\n",
    "# Lista para armazenar as acurácias para cada valor de k\n",
    "accuracies = []\n",
    "\n",
    "# Intervalo de valores de k a serem testados\n",
    "k_range = range(1, 21)\n",
    "\n",
    "# Loop para treinar o modelo com diferentes valores de k e calcular a acurácia\n",
    "for k in k_range:\n",
    "    knn = KNeighborsClassifier(n_neighbors=k)\n",
    "    knn.fit(X_train, y_train)\n",
    "    y_pred = knn.predict(X_test)\n",
    "    accuracy = metrics.accuracy_score(y_test, y_pred)\n",
    "    accuracies.append(accuracy)\n",
    "\n",
    "# Cria um gráfico de linha mostrando a acurácia para diferentes valores de k\n",
    "plt.figure(figsize=(10, 6))\n",
    "plt.plot(k_range, accuracies, marker='o', linestyle='-', markersize=8, markerfacecolor='red')\n",
    "plt.title('Acurácia vs. Número de Vizinhos (K)')\n",
    "plt.xlabel('Número de Vizinhos (K)')\n",
    "plt.ylabel('Acurácia')\n",
    "plt.xticks(k_range)\n",
    "plt.grid()\n",
    "plt.show()\n"
   ]
  },
  {
   "cell_type": "markdown",
   "id": "ca85efb3-ccea-4c4d-a6ee-e5655f3492d5",
   "metadata": {},
   "source": [
    "<div id=\"resultados\">\n",
    "    <h2>Resultados</h2>\n",
    "</div>\n",
    "\n",
    "<div id=\"jaccard\">\n",
    "    <h2>índice de Jaccard</h2>\n",
    "</div>\n",
    "\n",
    "**Índice de Jaccard**: É uma métrica que compara a semelhança entre dois conjuntos. No contexto de classificação, é calculado como a interseção dos conjuntos de rótulos verdadeiros e previstos dividido pela união desses conjuntos. O valor varia entre 0 e 1, sendo 1 a melhor pontuação possível."
   ]
  },
  {
   "cell_type": "code",
   "execution_count": 53,
   "id": "d6829a98-636a-4c8a-9957-f0779c61a3be",
   "metadata": {},
   "outputs": [
    {
     "name": "stdout",
     "output_type": "stream",
     "text": [
      "Índice de Jaccard: 0.4146429636255218\n"
     ]
    }
   ],
   "source": [
    "from sklearn.metrics import jaccard_score\n",
    "\n",
    "jaccard = jaccard_score(y_test, y_pred, average='weighted')\n",
    "print('Índice de Jaccard:', jaccard)\n"
   ]
  },
  {
   "cell_type": "markdown",
   "id": "6e82d10d-4384-4c0a-883a-204e4988cbbc",
   "metadata": {},
   "source": [
    "O **índice de Jaccard** é aproximadamente **0.41**.\n",
    "\n",
    "Isso significa que a similaridade entre os rótulos verdadeiros e previstos é relativamente baixa, indicando que o desempenho do seu modelo de classificação pode ser melhorado.\n",
    "\n",
    "Um índice de Jaccard maior indicaria uma maior correspondência entre os rótulos verdadeiros e previstos e, portanto, um melhor desempenho do modelo."
   ]
  },
  {
   "cell_type": "markdown",
   "id": "f423a465-d47a-478f-b09b-cece0965bc2c",
   "metadata": {},
   "source": [
    "<div id=\"f1-score\">\n",
    "    <h2>F1-score</h2>\n",
    "</div>\n",
    "\n",
    "**F1-score**: É uma métrica que combina precisão e recall em uma única pontuação, levando em consideração tanto a proporção de verdadeiros positivos quanto a proporção de falsos positivos e falsos negativos. O F1-score varia entre 0 e 1, sendo 1 a melhor pontuação possível. Ele busca fornecer um equilíbrio entre a precisão (verdadeiros positivos divididos pela soma de verdadeiros positivos e falsos positivos) e o recall (verdadeiros positivos divididos pela soma de verdadeiros positivos e falsos negativos)."
   ]
  },
  {
   "cell_type": "code",
   "execution_count": 54,
   "id": "4ce25d13-fb7d-4aea-8057-df04e26c9c07",
   "metadata": {},
   "outputs": [
    {
     "name": "stdout",
     "output_type": "stream",
     "text": [
      "F1-score: 0.5840582108935347\n"
     ]
    }
   ],
   "source": [
    "from sklearn.metrics import f1_score\n",
    "\n",
    "f1 = f1_score(y_test, y_pred, average='weighted')\n",
    "print('F1-score:', f1)\n"
   ]
  },
  {
   "cell_type": "markdown",
   "id": "88708b60-5dd7-4d8f-a0f0-292c9d5da6fd",
   "metadata": {},
   "source": [
    "O **F1-score** é de aproximadamente **0.58**.\n",
    "\n",
    "Isso sugere que o desempenho do seu modelo de classificação é moderado, mas ainda há espaço para melhorias. Um F1-score mais alto indicaria um melhor equilíbrio entre a precisão e o recall e, portanto, um melhor desempenho do modelo.\n",
    "\n",
    "É importante notar que, dependendo do contexto e das necessidades específicas do problema em questão, pode ser necessário priorizar a precisão ou o recall. Nesses casos, pode ser mais apropriado analisar essas métricas separadamente em vez de usar o F1-score. No entanto, o F1-score é uma boa métrica geral para avaliar o desempenho do modelo quando você deseja equilibrar tanto a precisão quanto o recall."
   ]
  },
  {
   "cell_type": "markdown",
   "id": "be2817d6-8116-4269-bd1e-7ffa19851a83",
   "metadata": {},
   "source": [
    "<div id=\"logloss\">\n",
    "    <h2>LogLoss</h2>\n",
    "</div>\n",
    "\n",
    "**LogLoss**: É uma métrica usada principalmente em problemas de classificação binária e **não é diretamente aplicável ao nosso problema** de classificação multiclasse.\n",
    "\n",
    "No entanto, podemos calcular a versão multiclasse da LogLoss usando a probabilidade prevista das classes em vez das previsões das classes.\n",
    "\n",
    "Assim, primeiro vamos obter as probabilidades previstas das classes usando o método **predict_proba()** do nosso modelo KNN.\n",
    "\n",
    "Depois de calcular todas essas métricas, vamos criar um relatório que resume o desempenho do modelo KNN.\n"
   ]
  },
  {
   "cell_type": "code",
   "execution_count": 55,
   "id": "092946cb-a9d2-4a54-8d85-c1b9d171da9e",
   "metadata": {},
   "outputs": [
    {
     "name": "stdout",
     "output_type": "stream",
     "text": [
      "LogLoss: 2.9762763025109145\n"
     ]
    }
   ],
   "source": [
    "from sklearn.metrics import log_loss\n",
    "\n",
    "# Calcular as probabilidades previstas das classes\n",
    "y_prob = neigh.predict_proba(X_test)\n",
    "\n",
    "# Calcular a LogLoss multiclasse\n",
    "logloss = log_loss(y_test, y_prob)\n",
    "print('LogLoss:', logloss)\n"
   ]
  },
  {
   "cell_type": "markdown",
   "id": "f5f2af47-fbbc-45e5-aff3-58d1f782559c",
   "metadata": {},
   "source": [
    "A **LogLoss** é de aproximadamente 2.98. Isso significa que seu modelo de classificação tem um desempenho moderado na previsão das probabilidades das classes. Um valor menor de LogLoss indicaria uma melhor capacidade do modelo de prever as probabilidades corretas das classes.\n",
    "\n",
    "É importante notar que a LogLoss é mais sensível a previsões erradas que estão longe da verdade do que outras métricas, como a acurácia. Portanto, a LogLoss pode ser uma métrica útil para avaliar o desempenho de um modelo de classificação quando você está especialmente interessado na qualidade das probabilidades previstas."
   ]
  },
  {
   "cell_type": "markdown",
   "id": "cb5f13b0-53bc-4e3e-867c-0419cd421564",
   "metadata": {},
   "source": [
    "<div id=\"o_grafico\">\n",
    "    <h2>O Gráfico KNN</h2>\n",
    "</div>\n",
    "\n",
    "Finalmente para ter uma ideia geral de como o algoritmo KNN classifica os pontos, pode selecionar duas características e criar um gráfico de dispersão com base nelas.\n",
    "\n",
    "Vamos criar um gráfico de dispersão usando a biblioteca matplotlib, onde utilizaremos 'Idade' e 'Rendimentos' como características e coloriremos os pontos com base na aprovação do empréstimo. Também mostraremos um exemplo de como o KNN classifica um novo ponto de dados no gráfico.\n",
    "\n",
    "O algoritmo KNN leva em consideração outras características, como 'Região', 'Casado' e 'Género', para calcular as distâncias e fazer previsões. Então, esta visualização é apenas para fins ilustrativos e não representa totalmente o funcionamento do seu modelo KNN.\n",
    "\n",
    "Para simplificar o gráfico e usar apenas uma amostra com menos pontos, vamos selecionar um subconjunto do DataFrame original. Vamos usar a função sample() do pandas para selecionar aleatoriamente um número menor de pontos. No exemplo abaixo, selecionamos 100 pontos aleatórios para simplificar o gráfico:"
   ]
  },
  {
   "cell_type": "code",
   "execution_count": 62,
   "id": "0320c4b5-1186-4e3a-89ca-149cb1beb533",
   "metadata": {},
   "outputs": [
    {
     "data": {
      "image/png": "[encoded data removed]",
      "text/plain": [
       "<Figure size 432x288 with 1 Axes>"
      ]
     },
     "metadata": {
      "needs_background": "light"
     },
     "output_type": "display_data"
    }
   ],
   "source": [
    "import numpy as np\n",
    "import matplotlib.pyplot as plt\n",
    "\n",
    "# Selecionando 100 pontos aleatórios do conjunto de dados\n",
    "dados_amostra = dados.sample(100)\n",
    "\n",
    "# Criando um gráfico de dispersão usando as colunas 'Idade' e 'Rendimentos'\n",
    "aprovados = dados_amostra[dados_amostra['Aprovação'] == 1]\n",
    "recusados = dados_amostra[dados_amostra['Aprovação'] == 0]\n",
    "\n",
    "plt.scatter(aprovados['Idade'], aprovados['Rendimentos'], c='green', label='Aprovados')\n",
    "plt.scatter(recusados['Idade'], recusados['Rendimentos'], c='red', label='Recusados')\n",
    "\n",
    "# Adicionando um exemplo de novo ponto de dados e prevendo sua classe usando KNN\n",
    "# Mantendo valores constantes para 'Região', 'Casado' e 'Género'\n",
    "novo_ponto = np.array([[3, 45, 1, 160, 1]]) # Exemplo: Região = 3, Casado = 1, Género = 1\n",
    "novo_ponto_classificacao = neigh.predict(novo_ponto)\n",
    "\n",
    "if novo_ponto_classificacao == 1:\n",
    "    cor = 'green'\n",
    "else:\n",
    "    cor = 'red'\n",
    "\n",
    "plt.scatter(novo_ponto[0][1], novo_ponto[0][3], c=cor, marker='x', s=100, label='Novo Ponto')\n",
    "\n",
    "# Adicionando legenda e rótulos aos eixos\n",
    "plt.xlabel('Idade')\n",
    "plt.ylabel('Rendimentos')\n",
    "plt.legend()\n",
    "plt.title('Visualização simplificada do KNN para Idade e Rendimentos')\n",
    "plt.show()\n"
   ]
  }
 ],
 "metadata": {
  "kernelspec": {
   "display_name": "anaconda-2022.05-py39",
   "language": "python",
   "name": "conda-env-anaconda-2022.05-py39-py"
  },
  "language_info": {
   "codemirror_mode": {
    "name": "ipython",
    "version": 3
   },
   "file_extension": ".py",
   "mimetype": "text/x-python",
   "name": "python",
   "nbconvert_exporter": "python",
   "pygments_lexer": "ipython3",
   "version": "3.9.12"
  }
 },
 "nbformat": 4,
 "nbformat_minor": 5
}
